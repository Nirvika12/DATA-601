{
 "cells": [
  {
   "cell_type": "markdown",
   "id": "b17339d6",
   "metadata": {},
   "source": [
    "# What is the difference between Python and R\n",
    "- In terms of Data Sceience capabilities , libraries\n",
    "- Data structures\n",
    "\n",
    "- Python is general purpose language known for its readability and versatality\n",
    "-Other than data , web dev, automation and software development\n",
    "-R - Specifically designed for stat analysis and data visualisation (academia and research) - Stata , SAS , R ( open source)\n",
    "\n",
    "-Dplyr Data Manipulation\n",
    "-Pandas\n",
    "\n",
    "-ggplot2 - Matplotlib , seaborn\n",
    "\n",
    "-R caret and mlr\n",
    "-Python - Sckit-learn, Tensorflow , Pythorch, Keras\n",
    "\n",
    "Operation Research, Research Scientist for Google, Amazon, Facebook, Tesla ---(R)--PhD in stat and other scientific domain -- Machine learning Researcher, Computer Vision Researcher -- Python, C++ and other\n",
    "\n",
    "Python --- Lists, Tuple , Sets,Dictionaries, Pandas, Dataframe, Numpy Arrays\n",
    "R --- Vectors, Matrices, Arrays, Dataframes"
   ]
  },
  {
   "cell_type": "markdown",
   "id": "9e27a56f",
   "metadata": {},
   "source": [
    "      --- Goal\n",
    "      \n",
    "      --- Basic Python( Mastering the basic foundation)\n",
    "      \n",
    "      -- Regreshing the knowledge of Stat, Prob, Linera algebra\n",
    "      \n",
    "      -- Introduction to Numpy-Optimise for Mathematical Operation including linear Algebra or calculus\n",
    "      \n",
    "      --- Pandas ( Intro and Intermediate, Advance mainly Pandas for time series analysis-- Trend, Seasonality and Base line)\n",
    "      --- Visualisation using Matplotlib and Seaborn ( Basic Visualisation, Heatmap, line bar....)\n",
    "      -Project1. EDA PROJECT\n",
    "      \n",
    "      ----Baseline ML Model Building ( Linear Regression and logistic Regression)\n",
    "      ---The math behind how you can be able derive linear reg,and logistic\n",
    "      -- Assumptions behind and how you can handle when the assumptions\n",
    "      --- We will go end to end Model development ( Statement of problem, Data Reprocessing, Model Builiding , Model Evaluation)\n",
    "      \n",
    "      Project 2 -- Uising your own research -- Develop your own Baseline ML Models."
   ]
  },
  {
   "cell_type": "code",
   "execution_count": null,
   "id": "5446e2c2",
   "metadata": {},
   "outputs": [],
   "source": [
    "Week2 --- Plan\n",
    "\n",
    "Mastering or refreshing the basic python\n",
    "\n",
    "-Type\n",
    "-Variable\n",
    "-Math function\n",
    "\n",
    "-Basic inbuilt function\n",
    "\n",
    "List basic python programming and advance python programming?\n"
   ]
  },
  {
   "cell_type": "markdown",
   "id": "93368c0e",
   "metadata": {},
   "source": [
    "Python Basic"
   ]
  },
  {
   "cell_type": "code",
   "execution_count": 2,
   "id": "7b1a1cf5",
   "metadata": {},
   "outputs": [
    {
     "name": "stdout",
     "output_type": "stream",
     "text": [
      "What is your name?Nirvika Rajendra\n",
      "Hi Nirvika Rajendra\n"
     ]
    }
   ],
   "source": [
    "name = input(\"What is your name?\")\n",
    "print('Hi ' +name)\n"
   ]
  },
  {
   "cell_type": "markdown",
   "id": "81818678",
   "metadata": {},
   "source": [
    "Predict values based on the input features\n",
    "\n",
    "Predict House Price = { Location, Year, room number, Area)\n",
    "                       \n",
    "                      Simple Linear Regression, Non-linear Regression( Decision tree, Rf and XB)"
   ]
  },
  {
   "cell_type": "code",
   "execution_count": null,
   "id": "b0de72b3",
   "metadata": {},
   "outputs": [],
   "source": [
    "Trained Model\n",
    "\n",
    "   Call model--Assume-- House 20 , 4, 2005)--Predict 450,000\n",
    "    \n",
    "    Actual Price = 452000\n",
    "    \n",
    "    Error Margin = 2000\n",
    "    \n",
    "    Error of Estimation - Try to minimise the error of estimation\n",
    "    \n",
    "    Mean Square error, Root Mean Square Error, absolute Mean Error \n",
    "    \n",
    "    ---Linear model,\n",
    "    \n",
    "    What is optimized?\n",
    "    \n",
    "    Reinforcement Learning -- Learning by rewarding"
   ]
  },
  {
   "cell_type": "code",
   "execution_count": null,
   "id": "ffcd9ce1",
   "metadata": {},
   "outputs": [],
   "source": [
    "# Flask API,\n",
    "#Jupyter ---- Input Function"
   ]
  },
  {
   "cell_type": "markdown",
   "id": "97101b7b",
   "metadata": {},
   "source": [
    "## Type of Data\n",
    "\n",
    "Numeric -- float and int\n",
    "\n",
    "String\n",
    "\n",
    "Boolean\n",
    "\n",
    "Complex data type"
   ]
  },
  {
   "cell_type": "code",
   "execution_count": 3,
   "id": "ddadeab8",
   "metadata": {},
   "outputs": [
    {
     "name": "stdout",
     "output_type": "stream",
     "text": [
      "<class 'str'>\n"
     ]
    }
   ],
   "source": [
    "print(type(name))"
   ]
  },
  {
   "cell_type": "code",
   "execution_count": 4,
   "id": "70d6d409",
   "metadata": {},
   "outputs": [
    {
     "name": "stdout",
     "output_type": "stream",
     "text": [
      "What is weight63\n",
      "28.35\n"
     ]
    }
   ],
   "source": [
    "weight = input(\"What is weight\")\n",
    "final = int(weight)*0.45\n",
    "print(final)"
   ]
  },
  {
   "cell_type": "code",
   "execution_count": 7,
   "id": "eebebd44",
   "metadata": {},
   "outputs": [
    {
     "name": "stdout",
     "output_type": "stream",
     "text": [
      "x + y = 26\n",
      "x - y = 16\n",
      "x * y = 105\n",
      "x / y = 4.2\n",
      "x % y = 1\n",
      "x // y = 4\n",
      "x ** y = 4084101\n"
     ]
    }
   ],
   "source": [
    "x = 21\n",
    "y = 5\n",
    "\n",
    "# Output: x + y = 26\n",
    "# Addition\n",
    "print('x + y =',x+y)\n",
    "\n",
    "# Output: x - y = 16\n",
    "print('x - y =',x-y)\n",
    "\n",
    "# Output: x * y = 105\n",
    "# Multiplication\n",
    "print('x * y =',x*y)\n",
    "\n",
    "# Output: x / y = 4.2\n",
    "# Division, always results in float\n",
    "print('x / y =',x/y)\n",
    "\n",
    "# Output x % y = 1\n",
    "# Modulo division, prints the remainder\n",
    "print('x % y =',x%y)\n",
    "\n",
    "# Output: x // y = 4\n",
    "# Floor Division, whole number adjusted with left in the number line\n",
    "print('x // y =',x//y)\n",
    "\n",
    "# Output: x ** y = 4084101\n",
    "# exponent x to the power y\n",
    "print('x ** y =',x**y)"
   ]
  },
  {
   "cell_type": "code",
   "execution_count": 13,
   "id": "7972e4f4",
   "metadata": {},
   "outputs": [
    {
     "name": "stdout",
     "output_type": "stream",
     "text": [
      "Python foundations\n",
      "n\n",
      "s\n",
      "Python\n"
     ]
    }
   ],
   "source": [
    "### String\n",
    "course='Python foundations'\n",
    "print(course)\n",
    "print(course[5])\n",
    "print(course[-1])\n",
    "print(course[0:6])"
   ]
  },
  {
   "cell_type": "code",
   "execution_count": 6,
   "id": "649c8744",
   "metadata": {},
   "outputs": [
    {
     "name": "stdout",
     "output_type": "stream",
     "text": [
      "python is very imp lang\n",
      "PYTHON IS VERY IMP LANG\n",
      "3\n",
      "Python Is Very Imp Lang\n",
      "2\n",
      "I like pink\n"
     ]
    }
   ],
   "source": [
    "#Various functions\n",
    "\n",
    "msg='python is very imp lang'\n",
    "print(msg.lower())\n",
    "print(msg.upper())\n",
    "\n",
    "list=['a','b','n','b','a','b']\n",
    "print(list.count('b'))\n",
    "\n",
    "\n",
    "print(msg.title())\n",
    "\n",
    "txt = \"I like blue\"\n",
    "y= txt.find('like')\n",
    "x = txt.replace(\"blue\", \"pink\")\n",
    "\n",
    "print(y)\n",
    "print(x)\n"
   ]
  },
  {
   "cell_type": "code",
   "execution_count": 8,
   "id": "6b699f18",
   "metadata": {},
   "outputs": [
    {
     "data": {
      "text/plain": [
       "0.005553896327174217"
      ]
     },
     "execution_count": 8,
     "metadata": {},
     "output_type": "execute_result"
    }
   ],
   "source": [
    "## Math function\n",
    "\n",
    "import math\n",
    "\n",
    "pi=3.142\n",
    "math.cos(60*pi)/180"
   ]
  },
  {
   "cell_type": "code",
   "execution_count": 9,
   "id": "8d15817b",
   "metadata": {},
   "outputs": [
    {
     "name": "stdout",
     "output_type": "stream",
     "text": [
      "3.56\n"
     ]
    }
   ],
   "source": [
    "x=-3.56\n",
    "print(abs(x))"
   ]
  },
  {
   "cell_type": "code",
   "execution_count": 10,
   "id": "a631942a",
   "metadata": {},
   "outputs": [
    {
     "name": "stdout",
     "output_type": "stream",
     "text": [
      "2\n",
      "3\n"
     ]
    }
   ],
   "source": [
    "print(math.ceil(1.4))\n",
    "print(math.floor(3.9))"
   ]
  },
  {
   "cell_type": "code",
   "execution_count": null,
   "id": "60287ac2",
   "metadata": {},
   "outputs": [],
   "source": [
    "#Research about boolean and complex number and add one or two code cells about this number type"
   ]
  },
  {
   "cell_type": "code",
   "execution_count": 13,
   "id": "111c3e95",
   "metadata": {},
   "outputs": [
    {
     "name": "stdout",
     "output_type": "stream",
     "text": [
      "False\n",
      "True\n",
      "b is greater than a\n"
     ]
    }
   ],
   "source": [
    "#boolean\n",
    "\n",
    "print(5>9)\n",
    "print(4==4)\n",
    "\n",
    "a = 2\n",
    "b = 3\n",
    "\n",
    "if b > a:\n",
    "  print(\"b is greater than a\")\n",
    "else:\n",
    "  print(\"a is greater than b\")"
   ]
  },
  {
   "cell_type": "code",
   "execution_count": 27,
   "id": "133e54c8",
   "metadata": {},
   "outputs": [
    {
     "name": "stdout",
     "output_type": "stream",
     "text": [
      "(5+5j)\n",
      "(12+16j)\n"
     ]
    }
   ],
   "source": [
    "#Comple number\n",
    "\n",
    "x1= 2+6j\n",
    "x2= 3-1j\n",
    "\n",
    "#addition\n",
    "sum=x1+x2\n",
    "print(sum)\n",
    "\n",
    "#product\n",
    "sum=x1*x2\n",
    "print(sum)"
   ]
  },
  {
   "cell_type": "markdown",
   "id": "f8c45ef5",
   "metadata": {},
   "source": [
    "#List\n",
    "\n",
    "A list is as series of items in a particular order. You can access list items using an index or within loop\n",
    "\n"
   ]
  },
  {
   "cell_type": "code",
   "execution_count": 20,
   "id": "4fe92ef6",
   "metadata": {},
   "outputs": [
    {
     "name": "stdout",
     "output_type": "stream",
     "text": [
      "treek\n"
     ]
    }
   ],
   "source": [
    "bikes=['treek','redline','giant']\n",
    "#Getting the first element\n",
    "\n",
    "first_bike=bikes[0]\n",
    "print(first_bike)"
   ]
  },
  {
   "cell_type": "code",
   "execution_count": 21,
   "id": "71618c45",
   "metadata": {},
   "outputs": [
    {
     "name": "stdout",
     "output_type": "stream",
     "text": [
      "giant\n"
     ]
    }
   ],
   "source": [
    "#Get the last item in a list\n",
    "\n",
    "last_bike=bikes[-1]\n",
    "print(last_bike)"
   ]
  },
  {
   "cell_type": "code",
   "execution_count": 24,
   "id": "c4713130",
   "metadata": {},
   "outputs": [
    {
     "name": "stdout",
     "output_type": "stream",
     "text": [
      "treek\n",
      "redline\n",
      "giant\n"
     ]
    }
   ],
   "source": [
    "#Looping through list\n",
    "\n",
    "for bike in bikes:\n",
    "    print(bike)"
   ]
  },
  {
   "cell_type": "code",
   "execution_count": 26,
   "id": "06fb0fdb",
   "metadata": {},
   "outputs": [
    {
     "name": "stdout",
     "output_type": "stream",
     "text": [
      "['treek', 'redline', 'blue']\n"
     ]
    }
   ],
   "source": [
    "bikes=[]\n",
    "bikes.append('treek')\n",
    "bikes.append('redline')\n",
    "bikes.append('blue')\n",
    "\n",
    "print(bikes)"
   ]
  },
  {
   "cell_type": "code",
   "execution_count": 31,
   "id": "a6bd43be",
   "metadata": {},
   "outputs": [
    {
     "name": "stdout",
     "output_type": "stream",
     "text": [
      "[1, 4, 9, 16, 25, 36, 49, 64, 81, 100]\n"
     ]
    }
   ],
   "source": [
    "# Making items to a list\n",
    "\n",
    "square=[]\n",
    "\n",
    "for x in range(1,11):\n",
    "    square.append(x**2)\n",
    "print(square)"
   ]
  },
  {
   "cell_type": "markdown",
   "id": "3492f029",
   "metadata": {},
   "source": [
    "Task 1 :\n",
    "    \n",
    "Objective Process and analyze data from a complex data structure (list of dictionaries)\n",
    "\n",
    "Tasks\n",
    "\n",
    "1. Calculate the total sales amount for each customer.\n",
    "2. Find the most sold product (by quantity, not by sales amount).\n",
    "3. Using list comprehension, create a list of tuples (product, amount) for transactions where the amount is greater than 50"
   ]
  },
  {
   "cell_type": "code",
   "execution_count": 15,
   "id": "a2476ff7",
   "metadata": {},
   "outputs": [],
   "source": [
    "transactions = [\n",
    "    {\"id\": 1, \"product\": \"Laptop\", \"amount\": 800, \"customer\": \"Alice\"},\n",
    "    {\"id\": 2, \"product\": \"Mouse\", \"amount\": 20, \"customer\": \"Bob\"},\n",
    "    {\"id\": 3, \"product\": \"Keyboard\", \"amount\": 50, \"customer\": \"Alice\"},\n",
    "    {\"id\": 4, \"product\": \"Monitor\", \"amount\": 300, \"customer\": \"Alice\"},\n",
    "    {\"id\": 5, \"product\": \"Laptop\", \"amount\": 850, \"customer\": \"Clara\"},\n",
    "    {\"id\": 6, \"product\": \"Mouse\", \"amount\": 25, \"customer\": \"Bob\"},\n",
    "    {\"id\": 7, \"product\": \"Keyboard\", \"amount\": 70, \"customer\":\"Clara\"}]"
   ]
  },
  {
   "cell_type": "code",
   "execution_count": 16,
   "id": "8f050284",
   "metadata": {},
   "outputs": [
    {
     "name": "stdout",
     "output_type": "stream",
     "text": [
      "{'Alice': 1150, 'Bob': 45, 'Clara': 920}\n"
     ]
    },
    {
     "data": {
      "text/plain": [
       "'Laptop'"
      ]
     },
     "execution_count": 16,
     "metadata": {},
     "output_type": "execute_result"
    }
   ],
   "source": [
    "#Calculate the total sales amount for each customer\n",
    "total_sales={}\n",
    "\n",
    "for row in transactions:\n",
    "    amount=row[\"amount\"]\n",
    "    customer=row[\"customer\"]\n",
    "    if customer in total_sales:\n",
    "        total_sales[customer]+=amount\n",
    "    else:\n",
    "        total_sales[customer]=amount\n",
    "print(total_sales)\n",
    "\n",
    "#Find the most sold product (by quantity, not by sales amount).\n",
    "\n",
    "product_sales = {}\n",
    "for transaction in transactions:\n",
    "    product=transaction[\"product\"]\n",
    "    if product in product_sales:\n",
    "        product_sales[product]+=1\n",
    "    else:\n",
    "        product_sales[product]=1\n",
    "        \n",
    "        most_sold_product=max(product_sales,key=product_sales.get)\n",
    "\n",
    "most_sold_product\n",
    "\n"
   ]
  },
  {
   "cell_type": "code",
   "execution_count": 17,
   "id": "b92256ef",
   "metadata": {},
   "outputs": [
    {
     "data": {
      "text/plain": [
       "[('Laptop', 800), ('Monitor', 300), ('Laptop', 850), ('Keyboard', 70)]"
      ]
     },
     "execution_count": 17,
     "metadata": {},
     "output_type": "execute_result"
    }
   ],
   "source": [
    "#Using list comprehension, create a list of tuples (product, amount) for transactions where the amount is greater than 50\n",
    "\n",
    "[(t[\"product\"],t[\"amount\"]) for t in transactions if t[\"amount\"] > 50]"
   ]
  },
  {
   "cell_type": "code",
   "execution_count": null,
   "id": "9e911153",
   "metadata": {},
   "outputs": [],
   "source": [
    "#Difference between tuple and list\n",
    "\n",
    "1. Tuples are immutable, their elemnets cannot be changed after creation. Whereas, lists are mutable allowing \n",
    "elements to be modified.\n",
    "2. Tuples are faster than Lists\n",
    "3. tuples are defined using paranthetis() and lists are defined usiing square brackets[]"
   ]
  },
  {
   "cell_type": "markdown",
   "id": "d217bd3b",
   "metadata": {},
   "source": [
    "#The lamba function\n",
    "\n",
    "It is a shortcut for simple operations where full function definition is not required"
   ]
  },
  {
   "cell_type": "code",
   "execution_count": 28,
   "id": "65efacd3",
   "metadata": {},
   "outputs": [
    {
     "name": "stdout",
     "output_type": "stream",
     "text": [
      "7\n"
     ]
    }
   ],
   "source": [
    "#Example\n",
    "add = lambda x,y: x+y\n",
    "print(add(3,4))"
   ]
  },
  {
   "cell_type": "code",
   "execution_count": 22,
   "id": "05b58da4",
   "metadata": {},
   "outputs": [
    {
     "name": "stdout",
     "output_type": "stream",
     "text": [
      "[1, 8, 27, 64]\n",
      "['apple', 'cherry', 'orange']\n"
     ]
    }
   ],
   "source": [
    "#Write a list Comprehension example\n",
    "cubes = [x*x*x for x in range(1,5)]\n",
    "print(cubes)\n",
    "\n",
    "fruits = [\"apple\", \"banana\", \"cherry\"]\n",
    "fruits.append(\"orange\")\n",
    "fruits.remove(\"banana\")\n",
    "print(fruits)\n",
    "\n"
   ]
  },
  {
   "cell_type": "code",
   "execution_count": 25,
   "id": "4dfc18eb",
   "metadata": {},
   "outputs": [
    {
     "name": "stdout",
     "output_type": "stream",
     "text": [
      "1\n",
      "2\n",
      "3\n",
      "4\n"
     ]
    }
   ],
   "source": [
    "#Write an example of while loop and for loop\n",
    "\n",
    "count=1\n",
    "while count <5:\n",
    "    print(count)\n",
    "    count+=1\n"
   ]
  },
  {
   "cell_type": "code",
   "execution_count": 27,
   "id": "f4ff8b8b",
   "metadata": {},
   "outputs": [
    {
     "name": "stdout",
     "output_type": "stream",
     "text": [
      "6\n",
      "12\n"
     ]
    }
   ],
   "source": [
    "for x in range(1,3):\n",
    "    print(x*6)"
   ]
  },
  {
   "cell_type": "code",
   "execution_count": 24,
   "id": "cf0f95b1",
   "metadata": {},
   "outputs": [
    {
     "name": "stdout",
     "output_type": "stream",
     "text": [
      "odd\n"
     ]
    }
   ],
   "source": [
    "#Write an example of if statement ( conditional statement)\n",
    "\n",
    "number = 5\n",
    "if number%2 == 0:\n",
    "    print(\"even\")\n",
    "else:\n",
    "    print(\"odd\")"
   ]
  },
  {
   "cell_type": "code",
   "execution_count": null,
   "id": "39129d38",
   "metadata": {},
   "outputs": [],
   "source": []
  },
  {
   "cell_type": "code",
   "execution_count": null,
   "id": "a31f6107",
   "metadata": {},
   "outputs": [],
   "source": []
  }
 ],
 "metadata": {
  "kernelspec": {
   "display_name": "Python 3 (ipykernel)",
   "language": "python",
   "name": "python3"
  },
  "language_info": {
   "codemirror_mode": {
    "name": "ipython",
    "version": 3
   },
   "file_extension": ".py",
   "mimetype": "text/x-python",
   "name": "python",
   "nbconvert_exporter": "python",
   "pygments_lexer": "ipython3",
   "version": "3.11.5"
  }
 },
 "nbformat": 4,
 "nbformat_minor": 5
}
