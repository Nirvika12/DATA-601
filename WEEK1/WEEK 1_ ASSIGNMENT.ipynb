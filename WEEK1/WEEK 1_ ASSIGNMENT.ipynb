{
 "cells": [
  {
   "cell_type": "markdown",
   "id": "e33df4c8",
   "metadata": {},
   "source": [
    "### QUESTION 1: Critical Discussion on Foundations of Data Science"
   ]
  },
  {
   "cell_type": "markdown",
   "id": "bca35348",
   "metadata": {},
   "source": [
    "1. Integration of Disciplines:\n",
    "\n",
    "Write a 50-100 word essay on how Python, Mathematics, and Statistics integrate in data science. Provide real-world examples.\n",
    "\n",
    "Mathematics, Python and Statistics creates a strong foundation in Data Science. Mathematics, particularly in linear algebra and calculus, is essential for machine learning applications. Python aids in data preprocessing, data manipulation and visualisation and concepts like statistical mean, median helps facilitates predictive analysis and also validates findings in data science ensuring robust decision making. For instance, in the context of IRCTC, predicting peak travel times, optimising ticket booking process and statistical analysis to find most common travel routes enhances the services."
   ]
  },
  {
   "cell_type": "markdown",
   "id": "dca43857",
   "metadata": {},
   "source": [
    "2. Practical vs Theoretical Understanding:\n",
    "\n",
    "Discuss the importance of theoretical knowledge versus practical skills. Which is more crucial, and why?\n",
    "\n",
    "The importance of theoretical knowledge versus pratical skills varies with the context. In academic, theory is foundational, offering concepts, theories, histories and principles. Yet, in practical domain hands-on skills dominate for addressing real world problems. Having balance between both practical and theoritical knowledge ensures a well rounded skill set necessary to adapt to diverse situations."
   ]
  },
  {
   "cell_type": "markdown",
   "id": "d93af2f7",
   "metadata": {},
   "source": [
    "3. Challenges and Strategies:\n",
    "\n",
    "List challenges faced when learning these disciplines together and propose strategies to overcome them.\n",
    "\n",
    "Challenges\n",
    "\n",
    "1. Applying theroretical knowledge to practical coding tasks is challenging for begineers.\n",
    "2. Learning Mathematics, Python and Statistics together requires more time than focusing on one.\n",
    "3. Similar concepts in Maths, statistics and python might create confusions compared to focusing one at a time.\n",
    "\n",
    "Strategies\n",
    "\n",
    "1. Starting with python basics ensures strong foundation, then step by step approach to progress in Maths & Statistics helps to master in all the three.\n",
    "2. Exploring courses and utilising online tools helps in continous development.\n",
    "3. Consistent coding, problem solving and analysis helps to overcome challenges faced while solving real world applications.\n"
   ]
  },
  {
   "cell_type": "markdown",
   "id": "99a24f12",
   "metadata": {},
   "source": [
    "4. Ethical Considerations:\n",
    "\n",
    "Discuss how a strong foundation in these areas helps address ethical dilemmas in data science\n",
    "\n",
    "1. Proefficiency in Python facilitates secure coding practices which thereby helps to protect sensitive information.\n",
    "2. Designing fair algorithms requires strong base in mathematics which avoids baisis.\n",
    "3. Statistics helps to keep models clear and honest, and also helps to uncover hidden problems\n",
    "4. Strong foundations in these areas helps to communicate things in a simpler way on what's going on with the data."
   ]
  },
  {
   "cell_type": "markdown",
   "id": "0670e506",
   "metadata": {},
   "source": [
    "### QUESTION 2: GitHub Profile"
   ]
  },
  {
   "cell_type": "markdown",
   "id": "32cc8db5",
   "metadata": {},
   "source": [
    "I'm Nirvika Rajendra from India. I hold an undergraduate degree in Computer Science and have a rich background as a Software Engineer, contributing to the client Credit Corp Group projects in Australia during my two year tenure at LTIMindtree.\n",
    "\n",
    "Eager to elevate skills, I am now focused on delving into data science. My aspiration is to become a proficient Data Scientist, solving complex problems and contributing meaningfully to the field.\n",
    "\n",
    "Link to my GitHub profile - https://github.com/Nirvika12/Profile\n",
    "Link to Data 601 Repository - https://github.com/Nirvika12/DATA-601"
   ]
  },
  {
   "cell_type": "markdown",
   "id": "3e694eeb",
   "metadata": {},
   "source": [
    "### QUESTION 3: Python DataStructure Manipulation"
   ]
  },
  {
   "cell_type": "markdown",
   "id": "7d7dd62e",
   "metadata": {},
   "source": [
    "TASK 1 : HYPOTHETICAL DATASET CHALLENGE"
   ]
  },
  {
   "cell_type": "code",
   "execution_count": 1,
   "id": "7c148871",
   "metadata": {},
   "outputs": [
    {
     "data": {
      "text/plain": [
       "[{'name': 'Alice', 'id': 1, 'grades': [88, 92, 85]},\n",
       " {'name': 'Bob', 'id': 2, 'grades': [76, 90, 83]},\n",
       " {'name': 'Alice', 'id': 3, 'grades': [91, 85, 89]}]"
      ]
     },
     "execution_count": 1,
     "metadata": {},
     "output_type": "execute_result"
    }
   ],
   "source": [
    "#Student Dataset creation\n",
    "\n",
    "def createStudent(name,id,grades):\n",
    "    \n",
    "    students = {\n",
    "        \"name\" : name,\n",
    "        \"id\" : id,\n",
    "        \"grades\" : grades,\n",
    "    }\n",
    "    return students\n",
    "\n",
    "student1 = createStudent('Alice',1,[88,92,85])\n",
    "student2 = createStudent('Bob',2,[76,90,83])\n",
    "student3 = createStudent('Alice',3,[91,85,89])\n",
    "\n",
    "students = [student1,student2,student3]\n",
    "students"
   ]
  },
  {
   "cell_type": "code",
   "execution_count": 2,
   "id": "7b5a8d26",
   "metadata": {},
   "outputs": [],
   "source": [
    "#Calculate the average grade for each student and add it as a new key-value pair in each dictionary.\n",
    "\n",
    "for student in students:\n",
    "    grade = student[\"grades\"]\n",
    "    avg_grade = sum(grade)/len(grade)\n",
    "    student[\"average_grade\"] = round(avg_grade,2)\n",
    "    "
   ]
  },
  {
   "cell_type": "code",
   "execution_count": 3,
   "id": "ea288cff",
   "metadata": {},
   "outputs": [
    {
     "name": "stdout",
     "output_type": "stream",
     "text": [
      "Alice's average grade is : 88.33\n",
      "Bob's average grade is : 83.0\n",
      "Alice's average grade is : 88.33\n"
     ]
    }
   ],
   "source": [
    "#print the averages of student\n",
    "\n",
    "for student in students:\n",
    "    print(f\"{student['name']}'s average grade is : {student['average_grade']}\")"
   ]
  },
  {
   "cell_type": "code",
   "execution_count": 4,
   "id": "6bd57b6d",
   "metadata": {},
   "outputs": [
    {
     "name": "stdout",
     "output_type": "stream",
     "text": [
      " Passed Students :  ['Alice', 'Bob', 'Alice']\n"
     ]
    }
   ],
   "source": [
    "#Using list comprehension, create a list of passed students (passing grade is 70)\n",
    "\n",
    "passed_students = []\n",
    "for student in students:\n",
    "    if student[\"average_grade\"] >= 70:\n",
    "       passed_students.append(student[\"name\"])\n",
    "        \n",
    "print(\" Passed Students : \", passed_students)"
   ]
  },
  {
   "cell_type": "code",
   "execution_count": 5,
   "id": "4b61d49f",
   "metadata": {},
   "outputs": [],
   "source": [
    "#Implement a search function that returns a student's record based on the student's ID.\n",
    "\n",
    "def search_student_by_id(studentId):\n",
    "    for student in students:\n",
    "        if student[\"id\"] == studentId:\n",
    "            return student\n",
    "    return 'No Student Found'\n",
    "         "
   ]
  },
  {
   "cell_type": "code",
   "execution_count": 14,
   "id": "8f437f5a",
   "metadata": {},
   "outputs": [
    {
     "name": "stdout",
     "output_type": "stream",
     "text": [
      "{'name': 'Alice', 'id': 1, 'grades': [88, 92, 85], 'average_grade': 88.33}\n",
      "No Student Found\n"
     ]
    }
   ],
   "source": [
    "#Test data for search student by id\n",
    "\n",
    "print(search_student_by_id(1))\n",
    "print(search_student_by_id(1.5))\n"
   ]
  },
  {
   "cell_type": "markdown",
   "id": "333a1210",
   "metadata": {},
   "source": [
    "TASK 2 : PUBLIC DATASET CHALLENGE\n"
   ]
  },
  {
   "cell_type": "code",
   "execution_count": 6,
   "id": "fa7de4cc",
   "metadata": {},
   "outputs": [],
   "source": [
    "#Import Iris dataset\n",
    "\n",
    "import pandas as pd\n",
    "url = \"https://archive.ics.uci.edu/ml/machine-learning-databases/iris/iris.data\"\n",
    "column_names = ['sepal_length', 'sepal_width', 'petal_length', 'petal_width', 'class']\n",
    "iris_data = pd.read_csv(url, names=column_names)"
   ]
  },
  {
   "cell_type": "code",
   "execution_count": 7,
   "id": "792749d2",
   "metadata": {},
   "outputs": [
    {
     "data": {
      "text/plain": [
       "(4.3, 7.9)"
      ]
     },
     "execution_count": 7,
     "metadata": {},
     "output_type": "execute_result"
    }
   ],
   "source": [
    "#Finding min and max sepal length\n",
    "\n",
    "smallest = min(iris_data[\"sepal_length\"])\n",
    "largest = max(iris_data[\"sepal_length\"])\n",
    "smallest,largest"
   ]
  },
  {
   "cell_type": "code",
   "execution_count": 11,
   "id": "0fa15df9",
   "metadata": {},
   "outputs": [
    {
     "name": "stdout",
     "output_type": "stream",
     "text": [
      "Iris-setosa, Sepal Length :5.1, Category :medium\n",
      "Iris-setosa, Sepal Length :4.9, Category :medium\n",
      "Iris-setosa, Sepal Length :4.7, Category :small\n",
      "Iris-setosa, Sepal Length :4.6, Category :small\n",
      "Iris-setosa, Sepal Length :5.0, Category :medium\n",
      "Iris-setosa, Sepal Length :5.4, Category :medium\n",
      "Iris-setosa, Sepal Length :4.6, Category :small\n",
      "Iris-setosa, Sepal Length :5.0, Category :medium\n",
      "Iris-setosa, Sepal Length :4.4, Category :small\n",
      "Iris-setosa, Sepal Length :4.9, Category :medium\n",
      "Iris-setosa, Sepal Length :5.4, Category :medium\n",
      "Iris-setosa, Sepal Length :4.8, Category :small\n",
      "Iris-setosa, Sepal Length :4.8, Category :small\n",
      "Iris-setosa, Sepal Length :4.3, Category :small\n",
      "Iris-setosa, Sepal Length :5.8, Category :medium\n",
      "Iris-setosa, Sepal Length :5.7, Category :medium\n",
      "Iris-setosa, Sepal Length :5.4, Category :medium\n",
      "Iris-setosa, Sepal Length :5.1, Category :medium\n",
      "Iris-setosa, Sepal Length :5.7, Category :medium\n",
      "Iris-setosa, Sepal Length :5.1, Category :medium\n",
      "Iris-setosa, Sepal Length :5.4, Category :medium\n",
      "Iris-setosa, Sepal Length :5.1, Category :medium\n",
      "Iris-setosa, Sepal Length :4.6, Category :small\n",
      "Iris-setosa, Sepal Length :5.1, Category :medium\n",
      "Iris-setosa, Sepal Length :4.8, Category :small\n",
      "Iris-setosa, Sepal Length :5.0, Category :medium\n",
      "Iris-setosa, Sepal Length :5.0, Category :medium\n",
      "Iris-setosa, Sepal Length :5.2, Category :medium\n",
      "Iris-setosa, Sepal Length :5.2, Category :medium\n",
      "Iris-setosa, Sepal Length :4.7, Category :small\n",
      "Iris-setosa, Sepal Length :4.8, Category :small\n",
      "Iris-setosa, Sepal Length :5.4, Category :medium\n",
      "Iris-setosa, Sepal Length :5.2, Category :medium\n",
      "Iris-setosa, Sepal Length :5.5, Category :medium\n",
      "Iris-setosa, Sepal Length :4.9, Category :medium\n",
      "Iris-setosa, Sepal Length :5.0, Category :medium\n",
      "Iris-setosa, Sepal Length :5.5, Category :medium\n",
      "Iris-setosa, Sepal Length :4.9, Category :medium\n",
      "Iris-setosa, Sepal Length :4.4, Category :small\n",
      "Iris-setosa, Sepal Length :5.1, Category :medium\n",
      "Iris-setosa, Sepal Length :5.0, Category :medium\n",
      "Iris-setosa, Sepal Length :4.5, Category :small\n",
      "Iris-setosa, Sepal Length :4.4, Category :small\n",
      "Iris-setosa, Sepal Length :5.0, Category :medium\n",
      "Iris-setosa, Sepal Length :5.1, Category :medium\n",
      "Iris-setosa, Sepal Length :4.8, Category :small\n",
      "Iris-setosa, Sepal Length :5.1, Category :medium\n",
      "Iris-setosa, Sepal Length :4.6, Category :small\n",
      "Iris-setosa, Sepal Length :5.3, Category :medium\n",
      "Iris-setosa, Sepal Length :5.0, Category :medium\n",
      "Iris-versicolor, Sepal Length :7.0, Category :large\n",
      "Iris-versicolor, Sepal Length :6.4, Category :large\n",
      "Iris-versicolor, Sepal Length :6.9, Category :large\n",
      "Iris-versicolor, Sepal Length :5.5, Category :medium\n",
      "Iris-versicolor, Sepal Length :6.5, Category :large\n",
      "Iris-versicolor, Sepal Length :5.7, Category :medium\n",
      "Iris-versicolor, Sepal Length :6.3, Category :large\n",
      "Iris-versicolor, Sepal Length :4.9, Category :medium\n",
      "Iris-versicolor, Sepal Length :6.6, Category :large\n",
      "Iris-versicolor, Sepal Length :5.2, Category :medium\n",
      "Iris-versicolor, Sepal Length :5.0, Category :medium\n",
      "Iris-versicolor, Sepal Length :5.9, Category :medium\n",
      "Iris-versicolor, Sepal Length :6.0, Category :large\n",
      "Iris-versicolor, Sepal Length :6.1, Category :large\n",
      "Iris-versicolor, Sepal Length :5.6, Category :medium\n",
      "Iris-versicolor, Sepal Length :6.7, Category :large\n",
      "Iris-versicolor, Sepal Length :5.6, Category :medium\n",
      "Iris-versicolor, Sepal Length :5.8, Category :medium\n",
      "Iris-versicolor, Sepal Length :6.2, Category :large\n",
      "Iris-versicolor, Sepal Length :5.6, Category :medium\n",
      "Iris-versicolor, Sepal Length :5.9, Category :medium\n",
      "Iris-versicolor, Sepal Length :6.1, Category :large\n",
      "Iris-versicolor, Sepal Length :6.3, Category :large\n",
      "Iris-versicolor, Sepal Length :6.1, Category :large\n",
      "Iris-versicolor, Sepal Length :6.4, Category :large\n",
      "Iris-versicolor, Sepal Length :6.6, Category :large\n",
      "Iris-versicolor, Sepal Length :6.8, Category :large\n",
      "Iris-versicolor, Sepal Length :6.7, Category :large\n",
      "Iris-versicolor, Sepal Length :6.0, Category :large\n",
      "Iris-versicolor, Sepal Length :5.7, Category :medium\n",
      "Iris-versicolor, Sepal Length :5.5, Category :medium\n",
      "Iris-versicolor, Sepal Length :5.5, Category :medium\n",
      "Iris-versicolor, Sepal Length :5.8, Category :medium\n",
      "Iris-versicolor, Sepal Length :6.0, Category :large\n",
      "Iris-versicolor, Sepal Length :5.4, Category :medium\n",
      "Iris-versicolor, Sepal Length :6.0, Category :large\n",
      "Iris-versicolor, Sepal Length :6.7, Category :large\n",
      "Iris-versicolor, Sepal Length :6.3, Category :large\n",
      "Iris-versicolor, Sepal Length :5.6, Category :medium\n",
      "Iris-versicolor, Sepal Length :5.5, Category :medium\n",
      "Iris-versicolor, Sepal Length :5.5, Category :medium\n",
      "Iris-versicolor, Sepal Length :6.1, Category :large\n",
      "Iris-versicolor, Sepal Length :5.8, Category :medium\n",
      "Iris-versicolor, Sepal Length :5.0, Category :medium\n",
      "Iris-versicolor, Sepal Length :5.6, Category :medium\n",
      "Iris-versicolor, Sepal Length :5.7, Category :medium\n",
      "Iris-versicolor, Sepal Length :5.7, Category :medium\n",
      "Iris-versicolor, Sepal Length :6.2, Category :large\n",
      "Iris-versicolor, Sepal Length :5.1, Category :medium\n",
      "Iris-versicolor, Sepal Length :5.7, Category :medium\n",
      "Iris-virginica, Sepal Length :6.3, Category :large\n",
      "Iris-virginica, Sepal Length :5.8, Category :medium\n",
      "Iris-virginica, Sepal Length :7.1, Category :large\n",
      "Iris-virginica, Sepal Length :6.3, Category :large\n",
      "Iris-virginica, Sepal Length :6.5, Category :large\n",
      "Iris-virginica, Sepal Length :7.6, Category :large\n",
      "Iris-virginica, Sepal Length :4.9, Category :medium\n",
      "Iris-virginica, Sepal Length :7.3, Category :large\n",
      "Iris-virginica, Sepal Length :6.7, Category :large\n",
      "Iris-virginica, Sepal Length :7.2, Category :large\n",
      "Iris-virginica, Sepal Length :6.5, Category :large\n",
      "Iris-virginica, Sepal Length :6.4, Category :large\n",
      "Iris-virginica, Sepal Length :6.8, Category :large\n",
      "Iris-virginica, Sepal Length :5.7, Category :medium\n",
      "Iris-virginica, Sepal Length :5.8, Category :medium\n",
      "Iris-virginica, Sepal Length :6.4, Category :large\n",
      "Iris-virginica, Sepal Length :6.5, Category :large\n",
      "Iris-virginica, Sepal Length :7.7, Category :large\n",
      "Iris-virginica, Sepal Length :7.7, Category :large\n",
      "Iris-virginica, Sepal Length :6.0, Category :large\n",
      "Iris-virginica, Sepal Length :6.9, Category :large\n",
      "Iris-virginica, Sepal Length :5.6, Category :medium\n",
      "Iris-virginica, Sepal Length :7.7, Category :large\n",
      "Iris-virginica, Sepal Length :6.3, Category :large\n",
      "Iris-virginica, Sepal Length :6.7, Category :large\n",
      "Iris-virginica, Sepal Length :7.2, Category :large\n",
      "Iris-virginica, Sepal Length :6.2, Category :large\n",
      "Iris-virginica, Sepal Length :6.1, Category :large\n",
      "Iris-virginica, Sepal Length :6.4, Category :large\n",
      "Iris-virginica, Sepal Length :7.2, Category :large\n",
      "Iris-virginica, Sepal Length :7.4, Category :large\n",
      "Iris-virginica, Sepal Length :7.9, Category :large\n",
      "Iris-virginica, Sepal Length :6.4, Category :large\n",
      "Iris-virginica, Sepal Length :6.3, Category :large\n",
      "Iris-virginica, Sepal Length :6.1, Category :large\n",
      "Iris-virginica, Sepal Length :7.7, Category :large\n",
      "Iris-virginica, Sepal Length :6.3, Category :large\n",
      "Iris-virginica, Sepal Length :6.4, Category :large\n",
      "Iris-virginica, Sepal Length :6.0, Category :large\n",
      "Iris-virginica, Sepal Length :6.9, Category :large\n",
      "Iris-virginica, Sepal Length :6.7, Category :large\n",
      "Iris-virginica, Sepal Length :6.9, Category :large\n",
      "Iris-virginica, Sepal Length :5.8, Category :medium\n",
      "Iris-virginica, Sepal Length :6.8, Category :large\n",
      "Iris-virginica, Sepal Length :6.7, Category :large\n",
      "Iris-virginica, Sepal Length :6.7, Category :large\n",
      "Iris-virginica, Sepal Length :6.3, Category :large\n",
      "Iris-virginica, Sepal Length :6.5, Category :large\n",
      "Iris-virginica, Sepal Length :6.2, Category :large\n",
      "Iris-virginica, Sepal Length :5.9, Category :medium\n"
     ]
    }
   ],
   "source": [
    "#Categorise plants based on sepal length\n",
    "\n",
    "small = 4.9\n",
    "medium = 6\n",
    "\n",
    "for index, iris in iris_data.iterrows():\n",
    "    sepal_length = iris[\"sepal_length\"]\n",
    "    \n",
    "    if sepal_length < small:\n",
    "        iris_data.at[index,\"category\"] = \"small\"\n",
    "    elif small <= sepal_length < medium:\n",
    "        iris_data.at[index,\"category\"] =  \"medium\"\n",
    "    else :\n",
    "        iris_data.at[index,\"category\"] = \"large\"\n",
    "        \n",
    "    #printing categorised data\n",
    "    print(f\"{iris['class']}, Sepal Length :{sepal_length}, Category :{iris['category']}\")   \n",
    "\n",
    "\n"
   ]
  },
  {
   "cell_type": "code",
   "execution_count": 12,
   "id": "f0cc236e",
   "metadata": {},
   "outputs": [
    {
     "name": "stdout",
     "output_type": "stream",
     "text": [
      "{'Setosa': 0.24, 'Versicolor': 1.33, 'Virginica': 2.03}\n"
     ]
    }
   ],
   "source": [
    "#Create a new dictionary where each key is a unique class from the dataset, \n",
    "#and the value is the average petal width of that class\n",
    "\n",
    "setosa, versicolor, virginica = [],[],[]\n",
    "\n",
    "for index , row in iris_data.iterrows():\n",
    "    if row['class'] == 'Iris-setosa':\n",
    "        setosa.append(row['petal_width'])\n",
    "        \n",
    "    if row['class'] == 'Iris-versicolor':\n",
    "        versicolor.append(row['petal_width'])\n",
    "        \n",
    "    if row['class'] == 'Iris-virginica':\n",
    "        virginica.append(row['petal_width'])\n",
    "\n",
    "avg_setosa = sum(setosa)/len(setosa)\n",
    "avg_versicolor = sum(versicolor)/len(versicolor)\n",
    "avg_virginica = sum(virginica)/len(virginica)\n",
    "\n",
    "# Create a new dictionary\n",
    "average_petal_width_dict = {\n",
    "    'Setosa': round(avg_setosa, 2),\n",
    "    'Versicolor': round(avg_versicolor, 2),\n",
    "    'Virginica': round(avg_virginica, 2)\n",
    "}\n",
    "\n",
    "# Display the new dictionary\n",
    "print(average_petal_width_dict)\n",
    "\n"
   ]
  },
  {
   "cell_type": "code",
   "execution_count": 13,
   "id": "c6127df9",
   "metadata": {},
   "outputs": [
    {
     "name": "stdout",
     "output_type": "stream",
     "text": [
      "[1.457142857142857, 1.6333333333333335, 1.46875, 1.4838709677419353, 1.3888888888888888, 1.3846153846153848, 1.352941176470588, 1.4705882352941178, 1.517241379310345, 1.5806451612903227, 1.4594594594594594, 1.411764705882353, 1.5999999999999999, 1.4333333333333333, 1.45, 1.2954545454545454, 1.3846153846153848, 1.457142857142857, 1.5000000000000002, 1.3421052631578947, 1.5882352941176472, 1.3783783783783783, 1.2777777777777777, 1.5454545454545454, 1.411764705882353, 1.6666666666666667, 1.4705882352941178, 1.4857142857142858, 1.5294117647058825, 1.46875, 1.5483870967741935, 1.5882352941176472, 1.2682926829268295, 1.3095238095238095, 1.5806451612903227, 1.5625, 1.5714285714285714, 1.5806451612903227, 1.4666666666666668, 1.5, 1.4285714285714286, 1.956521739130435, 1.375, 1.4285714285714286, 1.3421052631578947, 1.5999999999999999, 1.3421052631578947, 1.4374999999999998, 1.4324324324324322, 1.5151515151515151, 2.1875, 2.0, 2.2258064516129035, 2.3913043478260874, 2.3214285714285716, 2.035714285714286, 1.9090909090909092, 2.041666666666667, 2.2758620689655173, 1.9259259259259258, 2.5, 1.9666666666666668, 2.727272727272727, 2.103448275862069, 1.9310344827586206, 2.161290322580645, 1.8666666666666665, 2.148148148148148, 2.818181818181818, 2.2399999999999998, 1.84375, 2.1785714285714284, 2.52, 2.1785714285714284, 2.206896551724138, 2.1999999999999997, 2.428571428571429, 2.2333333333333334, 2.0689655172413794, 2.1923076923076925, 2.291666666666667, 2.291666666666667, 2.148148148148148, 2.222222222222222, 1.8, 1.7647058823529411, 2.161290322580645, 2.739130434782609, 1.8666666666666665, 2.2, 2.1153846153846154, 2.033333333333333, 2.230769230769231, 2.173913043478261, 2.074074074074074, 1.9000000000000001, 1.9655172413793105, 2.137931034482759, 2.04, 2.035714285714286, 1.9090909090909092, 2.148148148148148, 2.3666666666666667, 2.1724137931034484, 2.1666666666666665, 2.533333333333333, 1.9600000000000002, 2.5172413793103448, 2.68, 2.0, 2.03125, 2.3703703703703702, 2.2666666666666666, 2.2800000000000002, 2.0714285714285716, 2.0, 2.1666666666666665, 2.0263157894736845, 2.9615384615384617, 2.727272727272727, 2.15625, 2.0, 2.7500000000000004, 2.333333333333333, 2.0303030303030303, 2.25, 2.2142857142857144, 2.033333333333333, 2.285714285714286, 2.4, 2.6428571428571432, 2.0789473684210527, 2.285714285714286, 2.25, 2.346153846153846, 2.566666666666667, 1.8529411764705883, 2.064516129032258, 2.0, 2.2258064516129035, 2.161290322580645, 2.2258064516129035, 2.148148148148148, 2.125, 2.0303030303030303, 2.2333333333333334, 2.52, 2.1666666666666665, 1.823529411764706, 1.9666666666666668]\n"
     ]
    }
   ],
   "source": [
    "#Use list comprehension to create a list of sepal length-to-width ratios for all records.\n",
    "\n",
    "sepalLengthToWidth = []\n",
    "\n",
    "for index, row in iris_data.iterrows():\n",
    "    ratio = row['sepal_length']/row['sepal_width']\n",
    "    sepalLengthToWidth.append(ratio)\n",
    "print(sepalLengthToWidth)"
   ]
  },
  {
   "cell_type": "code",
   "execution_count": null,
   "id": "e7441051",
   "metadata": {},
   "outputs": [],
   "source": []
  }
 ],
 "metadata": {
  "kernelspec": {
   "display_name": "Python 3 (ipykernel)",
   "language": "python",
   "name": "python3"
  },
  "language_info": {
   "codemirror_mode": {
    "name": "ipython",
    "version": 3
   },
   "file_extension": ".py",
   "mimetype": "text/x-python",
   "name": "python",
   "nbconvert_exporter": "python",
   "pygments_lexer": "ipython3",
   "version": "3.11.5"
  }
 },
 "nbformat": 4,
 "nbformat_minor": 5
}
